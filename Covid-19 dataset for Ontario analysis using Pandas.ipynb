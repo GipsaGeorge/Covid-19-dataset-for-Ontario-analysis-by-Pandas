{
 "cells": [
  {
   "cell_type": "markdown",
   "metadata": {},
   "source": [
    "## Objective: \n",
    "### Understanding data and getting insights on the latest Covid-19 data set for Ontario "
   ]
  },
  {
   "cell_type": "markdown",
   "metadata": {},
   "source": [
    "\n",
    "## Import the libraries"
   ]
  },
  {
   "cell_type": "code",
   "execution_count": 1,
   "metadata": {},
   "outputs": [],
   "source": [
    "import pandas as pd"
   ]
  },
  {
   "cell_type": "markdown",
   "metadata": {},
   "source": [
    "## Load the data"
   ]
  },
  {
   "cell_type": "code",
   "execution_count": 2,
   "metadata": {},
   "outputs": [
    {
     "data": {
      "text/html": [
       "<div>\n",
       "<style scoped>\n",
       "    .dataframe tbody tr th:only-of-type {\n",
       "        vertical-align: middle;\n",
       "    }\n",
       "\n",
       "    .dataframe tbody tr th {\n",
       "        vertical-align: top;\n",
       "    }\n",
       "\n",
       "    .dataframe thead th {\n",
       "        text-align: right;\n",
       "    }\n",
       "</style>\n",
       "<table border=\"1\" class=\"dataframe\">\n",
       "  <thead>\n",
       "    <tr style=\"text-align: right;\">\n",
       "      <th></th>\n",
       "      <th>date</th>\n",
       "      <th>phu_name</th>\n",
       "      <th>phu_num</th>\n",
       "      <th>outbreak_group</th>\n",
       "      <th>number_ongoing_outbreaks</th>\n",
       "    </tr>\n",
       "  </thead>\n",
       "  <tbody>\n",
       "    <tr>\n",
       "      <th>25677</th>\n",
       "      <td>2021-06-12</td>\n",
       "      <td>WINDSOR-ESSEX COUNTY</td>\n",
       "      <td>2268</td>\n",
       "      <td>2 Congregate Living</td>\n",
       "      <td>1</td>\n",
       "    </tr>\n",
       "    <tr>\n",
       "      <th>25678</th>\n",
       "      <td>2021-06-12</td>\n",
       "      <td>YORK REGION</td>\n",
       "      <td>2270</td>\n",
       "      <td>5 Recreational</td>\n",
       "      <td>4</td>\n",
       "    </tr>\n",
       "    <tr>\n",
       "      <th>25679</th>\n",
       "      <td>2021-06-12</td>\n",
       "      <td>YORK REGION</td>\n",
       "      <td>2270</td>\n",
       "      <td>4 Workplace</td>\n",
       "      <td>15</td>\n",
       "    </tr>\n",
       "    <tr>\n",
       "      <th>25680</th>\n",
       "      <td>2021-06-12</td>\n",
       "      <td>YORK REGION</td>\n",
       "      <td>2270</td>\n",
       "      <td>3 Education</td>\n",
       "      <td>2</td>\n",
       "    </tr>\n",
       "    <tr>\n",
       "      <th>25681</th>\n",
       "      <td>2021-06-12</td>\n",
       "      <td>YORK REGION</td>\n",
       "      <td>2270</td>\n",
       "      <td>1 Congregate Care</td>\n",
       "      <td>1</td>\n",
       "    </tr>\n",
       "  </tbody>\n",
       "</table>\n",
       "</div>"
      ],
      "text/plain": [
       "             date              phu_name  phu_num       outbreak_group  \\\n",
       "25677  2021-06-12  WINDSOR-ESSEX COUNTY     2268  2 Congregate Living   \n",
       "25678  2021-06-12           YORK REGION     2270       5 Recreational   \n",
       "25679  2021-06-12           YORK REGION     2270          4 Workplace   \n",
       "25680  2021-06-12           YORK REGION     2270          3 Education   \n",
       "25681  2021-06-12           YORK REGION     2270    1 Congregate Care   \n",
       "\n",
       "       number_ongoing_outbreaks  \n",
       "25677                         1  \n",
       "25678                         4  \n",
       "25679                        15  \n",
       "25680                         2  \n",
       "25681                         1  "
      ]
     },
     "execution_count": 2,
     "metadata": {},
     "output_type": "execute_result"
    }
   ],
   "source": [
    "df = pd.read_csv('ongoing_outbreaks_phu.csv')\n",
    "df.tail()"
   ]
  },
  {
   "cell_type": "code",
   "execution_count": 3,
   "metadata": {},
   "outputs": [
    {
     "data": {
      "text/plain": [
       "(25682, 5)"
      ]
     },
     "execution_count": 3,
     "metadata": {},
     "output_type": "execute_result"
    }
   ],
   "source": [
    "#checking the shape of data\n",
    "df.shape"
   ]
  },
  {
   "cell_type": "markdown",
   "metadata": {},
   "source": [
    "#### The Covid dataset consists of 25682 rows and 5 columns."
   ]
  },
  {
   "cell_type": "code",
   "execution_count": 4,
   "metadata": {},
   "outputs": [
    {
     "data": {
      "text/plain": [
       "date                        object\n",
       "phu_name                    object\n",
       "phu_num                      int64\n",
       "outbreak_group              object\n",
       "number_ongoing_outbreaks     int64\n",
       "dtype: object"
      ]
     },
     "execution_count": 4,
     "metadata": {},
     "output_type": "execute_result"
    }
   ],
   "source": [
    "df.dtypes"
   ]
  },
  {
   "cell_type": "markdown",
   "metadata": {},
   "source": [
    "##### Different types of variable in the dataset are:\n",
    "##### Categorical variables - date, phu_name, and outbreak_group\n",
    "##### Quantitative variables -phu_num and  number_ongoing_outbreaks. Here phu_num and  number_ongoing_outbreaks are discrete variables."
   ]
  },
  {
   "cell_type": "code",
   "execution_count": 5,
   "metadata": {},
   "outputs": [
    {
     "name": "stdout",
     "output_type": "stream",
     "text": [
      "<class 'pandas.core.frame.DataFrame'>\n",
      "RangeIndex: 25682 entries, 0 to 25681\n",
      "Data columns (total 5 columns):\n",
      " #   Column                    Non-Null Count  Dtype \n",
      "---  ------                    --------------  ----- \n",
      " 0   date                      25682 non-null  object\n",
      " 1   phu_name                  25682 non-null  object\n",
      " 2   phu_num                   25682 non-null  int64 \n",
      " 3   outbreak_group            25682 non-null  object\n",
      " 4   number_ongoing_outbreaks  25682 non-null  int64 \n",
      "dtypes: int64(2), object(3)\n",
      "memory usage: 1003.3+ KB\n"
     ]
    }
   ],
   "source": [
    "#Basic inforamation of teh dataset\n",
    "df.info()"
   ]
  },
  {
   "cell_type": "markdown",
   "metadata": {},
   "source": [
    "## Data Cleaning"
   ]
  },
  {
   "cell_type": "code",
   "execution_count": 6,
   "metadata": {},
   "outputs": [
    {
     "data": {
      "text/plain": [
       "date                        0\n",
       "phu_name                    0\n",
       "phu_num                     0\n",
       "outbreak_group              0\n",
       "number_ongoing_outbreaks    0\n",
       "dtype: int64"
      ]
     },
     "execution_count": 6,
     "metadata": {},
     "output_type": "execute_result"
    }
   ],
   "source": [
    "df.isnull().sum()"
   ]
  },
  {
   "cell_type": "markdown",
   "metadata": {},
   "source": [
    "### There are no null values in the dataset."
   ]
  },
  {
   "cell_type": "markdown",
   "metadata": {},
   "source": [
    "## Descriptive Statistics"
   ]
  },
  {
   "cell_type": "code",
   "execution_count": 7,
   "metadata": {},
   "outputs": [
    {
     "data": {
      "text/html": [
       "<div>\n",
       "<style scoped>\n",
       "    .dataframe tbody tr th:only-of-type {\n",
       "        vertical-align: middle;\n",
       "    }\n",
       "\n",
       "    .dataframe tbody tr th {\n",
       "        vertical-align: top;\n",
       "    }\n",
       "\n",
       "    .dataframe thead th {\n",
       "        text-align: right;\n",
       "    }\n",
       "</style>\n",
       "<table border=\"1\" class=\"dataframe\">\n",
       "  <thead>\n",
       "    <tr style=\"text-align: right;\">\n",
       "      <th></th>\n",
       "      <th>phu_num</th>\n",
       "      <th>number_ongoing_outbreaks</th>\n",
       "    </tr>\n",
       "  </thead>\n",
       "  <tbody>\n",
       "    <tr>\n",
       "      <th>count</th>\n",
       "      <td>25682.000000</td>\n",
       "      <td>25682.000000</td>\n",
       "    </tr>\n",
       "    <tr>\n",
       "      <th>mean</th>\n",
       "      <td>2466.006580</td>\n",
       "      <td>6.288996</td>\n",
       "    </tr>\n",
       "    <tr>\n",
       "      <th>std</th>\n",
       "      <td>680.605949</td>\n",
       "      <td>10.778658</td>\n",
       "    </tr>\n",
       "    <tr>\n",
       "      <th>min</th>\n",
       "      <td>2226.000000</td>\n",
       "      <td>1.000000</td>\n",
       "    </tr>\n",
       "    <tr>\n",
       "      <th>25%</th>\n",
       "      <td>2238.000000</td>\n",
       "      <td>1.000000</td>\n",
       "    </tr>\n",
       "    <tr>\n",
       "      <th>50%</th>\n",
       "      <td>2253.000000</td>\n",
       "      <td>2.000000</td>\n",
       "    </tr>\n",
       "    <tr>\n",
       "      <th>75%</th>\n",
       "      <td>2265.000000</td>\n",
       "      <td>6.000000</td>\n",
       "    </tr>\n",
       "    <tr>\n",
       "      <th>max</th>\n",
       "      <td>5183.000000</td>\n",
       "      <td>123.000000</td>\n",
       "    </tr>\n",
       "  </tbody>\n",
       "</table>\n",
       "</div>"
      ],
      "text/plain": [
       "            phu_num  number_ongoing_outbreaks\n",
       "count  25682.000000              25682.000000\n",
       "mean    2466.006580                  6.288996\n",
       "std      680.605949                 10.778658\n",
       "min     2226.000000                  1.000000\n",
       "25%     2238.000000                  1.000000\n",
       "50%     2253.000000                  2.000000\n",
       "75%     2265.000000                  6.000000\n",
       "max     5183.000000                123.000000"
      ]
     },
     "execution_count": 7,
     "metadata": {},
     "output_type": "execute_result"
    }
   ],
   "source": [
    "df.describe()"
   ]
  },
  {
   "cell_type": "markdown",
   "metadata": {},
   "source": [
    "### df.describe() provides the descriptive statistics of all the numerical values of the dataset. \n",
    "### The regions in Ontario province has seen a minimum of 1 case and a maximum of 123"
   ]
  },
  {
   "cell_type": "markdown",
   "metadata": {},
   "source": [
    "---------------------\n",
    "## Exploring the dataset and answers to objective queries"
   ]
  },
  {
   "cell_type": "markdown",
   "metadata": {},
   "source": [
    "## 1. How many regions are there in Ontario province?"
   ]
  },
  {
   "cell_type": "code",
   "execution_count": 8,
   "metadata": {},
   "outputs": [
    {
     "data": {
      "text/plain": [
       "34"
      ]
     },
     "execution_count": 8,
     "metadata": {},
     "output_type": "execute_result"
    }
   ],
   "source": [
    "df['phu_name'].nunique()"
   ]
  },
  {
   "cell_type": "markdown",
   "metadata": {},
   "source": [
    "### There are a total of 34 regions in the Ontario province."
   ]
  },
  {
   "cell_type": "markdown",
   "metadata": {},
   "source": [
    "## 2. Which region in the Ontario Province has seen the worst Covid outbreak?"
   ]
  },
  {
   "cell_type": "code",
   "execution_count": 9,
   "metadata": {},
   "outputs": [
    {
     "data": {
      "text/html": [
       "<style  type=\"text/css\" >\n",
       "    #T_25481e82_cc54_11eb_89f5_3822e2bf476drow0_col1 {\n",
       "            background-color:  #3f007d;\n",
       "            color:  #f1f1f1;\n",
       "        }    #T_25481e82_cc54_11eb_89f5_3822e2bf476drow1_col1 {\n",
       "            background-color:  #4c1888;\n",
       "            color:  #f1f1f1;\n",
       "        }    #T_25481e82_cc54_11eb_89f5_3822e2bf476drow2_col1 {\n",
       "            background-color:  #9b97c6;\n",
       "            color:  #000000;\n",
       "        }    #T_25481e82_cc54_11eb_89f5_3822e2bf476drow3_col1 {\n",
       "            background-color:  #fbfafc;\n",
       "            color:  #000000;\n",
       "        }    #T_25481e82_cc54_11eb_89f5_3822e2bf476drow4_col1 {\n",
       "            background-color:  #fcfbfd;\n",
       "            color:  #000000;\n",
       "        }</style><table id=\"T_25481e82_cc54_11eb_89f5_3822e2bf476d\" ><thead>    <tr>        <th class=\"blank level0\" ></th>        <th class=\"col_heading level0 col0\" >phu_name</th>        <th class=\"col_heading level0 col1\" >number_ongoing_outbreaks</th>    </tr></thead><tbody>\n",
       "                <tr>\n",
       "                        <th id=\"T_25481e82_cc54_11eb_89f5_3822e2bf476dlevel0_row0\" class=\"row_heading level0 row0\" >29</th>\n",
       "                        <td id=\"T_25481e82_cc54_11eb_89f5_3822e2bf476drow0_col0\" class=\"data row0 col0\" >TORONTO</td>\n",
       "                        <td id=\"T_25481e82_cc54_11eb_89f5_3822e2bf476drow0_col1\" class=\"data row0 col1\" >30828</td>\n",
       "            </tr>\n",
       "            <tr>\n",
       "                        <th id=\"T_25481e82_cc54_11eb_89f5_3822e2bf476dlevel0_row1\" class=\"row_heading level0 row1\" >21</th>\n",
       "                        <td id=\"T_25481e82_cc54_11eb_89f5_3822e2bf476drow1_col0\" class=\"data row1 col0\" >PEEL REGION</td>\n",
       "                        <td id=\"T_25481e82_cc54_11eb_89f5_3822e2bf476drow1_col1\" class=\"data row1 col1\" >28965</td>\n",
       "            </tr>\n",
       "            <tr>\n",
       "                        <th id=\"T_25481e82_cc54_11eb_89f5_3822e2bf476dlevel0_row2\" class=\"row_heading level0 row2\" >33</th>\n",
       "                        <td id=\"T_25481e82_cc54_11eb_89f5_3822e2bf476drow2_col0\" class=\"data row2 col0\" >YORK REGION</td>\n",
       "                        <td id=\"T_25481e82_cc54_11eb_89f5_3822e2bf476drow2_col1\" class=\"data row2 col1\" >19651</td>\n",
       "            </tr>\n",
       "            <tr>\n",
       "                        <th id=\"T_25481e82_cc54_11eb_89f5_3822e2bf476dlevel0_row3\" class=\"row_heading level0 row3\" >5</th>\n",
       "                        <td id=\"T_25481e82_cc54_11eb_89f5_3822e2bf476drow3_col0\" class=\"data row3 col0\" >DURHAM REGION</td>\n",
       "                        <td id=\"T_25481e82_cc54_11eb_89f5_3822e2bf476drow3_col1\" class=\"data row3 col1\" >8000</td>\n",
       "            </tr>\n",
       "            <tr>\n",
       "                        <th id=\"T_25481e82_cc54_11eb_89f5_3822e2bf476dlevel0_row4\" class=\"row_heading level0 row4\" >4</th>\n",
       "                        <td id=\"T_25481e82_cc54_11eb_89f5_3822e2bf476drow4_col0\" class=\"data row4 col0\" >CITY OF OTTAWA</td>\n",
       "                        <td id=\"T_25481e82_cc54_11eb_89f5_3822e2bf476drow4_col1\" class=\"data row4 col1\" >7816</td>\n",
       "            </tr>\n",
       "    </tbody></table>"
      ],
      "text/plain": [
       "<pandas.io.formats.style.Styler at 0x1a3e81aed30>"
      ]
     },
     "execution_count": 9,
     "metadata": {},
     "output_type": "execute_result"
    }
   ],
   "source": [
    "s= df.groupby(['phu_name'])['number_ongoing_outbreaks'].sum().reset_index().sort_values(by='number_ongoing_outbreaks',ascending=False).head(5)\n",
    "s.style.background_gradient(cmap='Purples')"
   ]
  },
  {
   "cell_type": "markdown",
   "metadata": {},
   "source": [
    "### The region 'TORONTO' has seen the worst outbreak with 30828 cases followed by 'PEEL REGION' with 28965 cases."
   ]
  },
  {
   "cell_type": "markdown",
   "metadata": {},
   "source": [
    "## 3. Which group has witnessed the worst outbreak in the Ontario province?"
   ]
  },
  {
   "cell_type": "code",
   "execution_count": 10,
   "metadata": {},
   "outputs": [
    {
     "data": {
      "text/plain": [
       "array(['4 Workplace', '1 Congregate Care', '5 Recreational',\n",
       "       '6 Other/Unknown', '3 Education', '2 Congregate Living'],\n",
       "      dtype=object)"
      ]
     },
     "execution_count": 10,
     "metadata": {},
     "output_type": "execute_result"
    }
   ],
   "source": [
    "df['outbreak_group'].unique()"
   ]
  },
  {
   "cell_type": "markdown",
   "metadata": {},
   "source": [
    "### There are 6 unique groups in the dataset."
   ]
  },
  {
   "cell_type": "code",
   "execution_count": 11,
   "metadata": {},
   "outputs": [
    {
     "data": {
      "text/html": [
       "<div>\n",
       "<style scoped>\n",
       "    .dataframe tbody tr th:only-of-type {\n",
       "        vertical-align: middle;\n",
       "    }\n",
       "\n",
       "    .dataframe tbody tr th {\n",
       "        vertical-align: top;\n",
       "    }\n",
       "\n",
       "    .dataframe thead th {\n",
       "        text-align: right;\n",
       "    }\n",
       "</style>\n",
       "<table border=\"1\" class=\"dataframe\">\n",
       "  <thead>\n",
       "    <tr style=\"text-align: right;\">\n",
       "      <th></th>\n",
       "      <th>outbreak_group</th>\n",
       "      <th>number_ongoing_outbreaks</th>\n",
       "    </tr>\n",
       "  </thead>\n",
       "  <tbody>\n",
       "    <tr>\n",
       "      <th>0</th>\n",
       "      <td>1 Congregate Care</td>\n",
       "      <td>49035</td>\n",
       "    </tr>\n",
       "    <tr>\n",
       "      <th>3</th>\n",
       "      <td>4 Workplace</td>\n",
       "      <td>46974</td>\n",
       "    </tr>\n",
       "    <tr>\n",
       "      <th>2</th>\n",
       "      <td>3 Education</td>\n",
       "      <td>32209</td>\n",
       "    </tr>\n",
       "    <tr>\n",
       "      <th>1</th>\n",
       "      <td>2 Congregate Living</td>\n",
       "      <td>20040</td>\n",
       "    </tr>\n",
       "    <tr>\n",
       "      <th>4</th>\n",
       "      <td>5 Recreational</td>\n",
       "      <td>9673</td>\n",
       "    </tr>\n",
       "    <tr>\n",
       "      <th>5</th>\n",
       "      <td>6 Other/Unknown</td>\n",
       "      <td>3583</td>\n",
       "    </tr>\n",
       "  </tbody>\n",
       "</table>\n",
       "</div>"
      ],
      "text/plain": [
       "        outbreak_group  number_ongoing_outbreaks\n",
       "0    1 Congregate Care                     49035\n",
       "3          4 Workplace                     46974\n",
       "2          3 Education                     32209\n",
       "1  2 Congregate Living                     20040\n",
       "4       5 Recreational                      9673\n",
       "5      6 Other/Unknown                      3583"
      ]
     },
     "execution_count": 11,
     "metadata": {},
     "output_type": "execute_result"
    }
   ],
   "source": [
    "df.groupby(['outbreak_group']).number_ongoing_outbreaks.sum().reset_index().sort_values(by='number_ongoing_outbreaks',ascending=False)"
   ]
  },
  {
   "cell_type": "markdown",
   "metadata": {},
   "source": [
    "### The 'Congregate Care' group has seen the worst Covid outbreak in the Ontario province with 49035 cases, followed by the 'Workplace' group with 46974 cases."
   ]
  },
  {
   "cell_type": "markdown",
   "metadata": {},
   "source": [
    "## 4. Which region has witnessed the worst one day spike of active cases in the Ontarion Province?"
   ]
  },
  {
   "cell_type": "code",
   "execution_count": 12,
   "metadata": {},
   "outputs": [
    {
     "data": {
      "text/html": [
       "<div>\n",
       "<style scoped>\n",
       "    .dataframe tbody tr th:only-of-type {\n",
       "        vertical-align: middle;\n",
       "    }\n",
       "\n",
       "    .dataframe tbody tr th {\n",
       "        vertical-align: top;\n",
       "    }\n",
       "\n",
       "    .dataframe thead th {\n",
       "        text-align: right;\n",
       "    }\n",
       "</style>\n",
       "<table border=\"1\" class=\"dataframe\">\n",
       "  <thead>\n",
       "    <tr style=\"text-align: right;\">\n",
       "      <th></th>\n",
       "      <th>date</th>\n",
       "      <th>phu_name</th>\n",
       "      <th>phu_num</th>\n",
       "      <th>outbreak_group</th>\n",
       "      <th>number_ongoing_outbreaks</th>\n",
       "    </tr>\n",
       "  </thead>\n",
       "  <tbody>\n",
       "    <tr>\n",
       "      <th>19194</th>\n",
       "      <td>2021-04-14</td>\n",
       "      <td>TORONTO</td>\n",
       "      <td>3895</td>\n",
       "      <td>3 Education</td>\n",
       "      <td>123</td>\n",
       "    </tr>\n",
       "  </tbody>\n",
       "</table>\n",
       "</div>"
      ],
      "text/plain": [
       "             date phu_name  phu_num outbreak_group  number_ongoing_outbreaks\n",
       "19194  2021-04-14  TORONTO     3895    3 Education                       123"
      ]
     },
     "execution_count": 12,
     "metadata": {},
     "output_type": "execute_result"
    }
   ],
   "source": [
    "df_filter = df[df['number_ongoing_outbreaks'] == 123]\n",
    "\n",
    "df_filter"
   ]
  },
  {
   "cell_type": "markdown",
   "metadata": {},
   "source": [
    "### Ontario province witnessed the worst one day spike of 123 cases in 'TORONTO' region for the 'Education' group on April 14th, 2021."
   ]
  },
  {
   "cell_type": "markdown",
   "metadata": {},
   "source": [
    "## 5. What is the total number of active cases in the Ontario province as on June 12th, 2021?"
   ]
  },
  {
   "cell_type": "code",
   "execution_count": 13,
   "metadata": {},
   "outputs": [
    {
     "data": {
      "text/html": [
       "<div>\n",
       "<style scoped>\n",
       "    .dataframe tbody tr th:only-of-type {\n",
       "        vertical-align: middle;\n",
       "    }\n",
       "\n",
       "    .dataframe tbody tr th {\n",
       "        vertical-align: top;\n",
       "    }\n",
       "\n",
       "    .dataframe thead th {\n",
       "        text-align: right;\n",
       "    }\n",
       "</style>\n",
       "<table border=\"1\" class=\"dataframe\">\n",
       "  <thead>\n",
       "    <tr style=\"text-align: right;\">\n",
       "      <th></th>\n",
       "      <th>date</th>\n",
       "      <th>phu_name</th>\n",
       "      <th>phu_num</th>\n",
       "      <th>outbreak_group</th>\n",
       "      <th>number_ongoing_outbreaks</th>\n",
       "    </tr>\n",
       "  </thead>\n",
       "  <tbody>\n",
       "    <tr>\n",
       "      <th>25612</th>\n",
       "      <td>2021-06-12</td>\n",
       "      <td>ALGOMA DISTRICT</td>\n",
       "      <td>2226</td>\n",
       "      <td>1 Congregate Care</td>\n",
       "      <td>1</td>\n",
       "    </tr>\n",
       "    <tr>\n",
       "      <th>25613</th>\n",
       "      <td>2021-06-12</td>\n",
       "      <td>ALGOMA DISTRICT</td>\n",
       "      <td>2226</td>\n",
       "      <td>4 Workplace</td>\n",
       "      <td>1</td>\n",
       "    </tr>\n",
       "    <tr>\n",
       "      <th>25614</th>\n",
       "      <td>2021-06-12</td>\n",
       "      <td>BRANT COUNTY</td>\n",
       "      <td>2227</td>\n",
       "      <td>2 Congregate Living</td>\n",
       "      <td>1</td>\n",
       "    </tr>\n",
       "    <tr>\n",
       "      <th>25615</th>\n",
       "      <td>2021-06-12</td>\n",
       "      <td>BRANT COUNTY</td>\n",
       "      <td>2227</td>\n",
       "      <td>1 Congregate Care</td>\n",
       "      <td>1</td>\n",
       "    </tr>\n",
       "    <tr>\n",
       "      <th>25616</th>\n",
       "      <td>2021-06-12</td>\n",
       "      <td>BRANT COUNTY</td>\n",
       "      <td>2227</td>\n",
       "      <td>4 Workplace</td>\n",
       "      <td>2</td>\n",
       "    </tr>\n",
       "  </tbody>\n",
       "</table>\n",
       "</div>"
      ],
      "text/plain": [
       "             date         phu_name  phu_num       outbreak_group  \\\n",
       "25612  2021-06-12  ALGOMA DISTRICT     2226    1 Congregate Care   \n",
       "25613  2021-06-12  ALGOMA DISTRICT     2226          4 Workplace   \n",
       "25614  2021-06-12     BRANT COUNTY     2227  2 Congregate Living   \n",
       "25615  2021-06-12     BRANT COUNTY     2227    1 Congregate Care   \n",
       "25616  2021-06-12     BRANT COUNTY     2227          4 Workplace   \n",
       "\n",
       "       number_ongoing_outbreaks  \n",
       "25612                         1  \n",
       "25613                         1  \n",
       "25614                         1  \n",
       "25615                         1  \n",
       "25616                         2  "
      ]
     },
     "execution_count": 13,
     "metadata": {},
     "output_type": "execute_result"
    }
   ],
   "source": [
    "filter = df['date'] == '2021-06-12'\n",
    "df_new = df[filter]\n",
    "df_new.head()"
   ]
  },
  {
   "cell_type": "code",
   "execution_count": 14,
   "metadata": {},
   "outputs": [
    {
     "data": {
      "text/plain": [
       "191"
      ]
     },
     "execution_count": 14,
     "metadata": {},
     "output_type": "execute_result"
    }
   ],
   "source": [
    "df_new['number_ongoing_outbreaks'].sum()"
   ]
  },
  {
   "cell_type": "markdown",
   "metadata": {},
   "source": [
    "### There are 191 number of active cases in the  Ontario povince as on June 12th, 2021."
   ]
  },
  {
   "cell_type": "markdown",
   "metadata": {},
   "source": [
    "## 6. Which region has the large number of active cases as on June 12th, 2021?"
   ]
  },
  {
   "cell_type": "code",
   "execution_count": 15,
   "metadata": {},
   "outputs": [
    {
     "data": {
      "text/html": [
       "<style  type=\"text/css\" >\n",
       "    #T_25beba71_cc54_11eb_8c4a_3822e2bf476drow0_col1 {\n",
       "            background-color:  #67000d;\n",
       "            color:  #f1f1f1;\n",
       "        }    #T_25beba71_cc54_11eb_8c4a_3822e2bf476drow1_col1 {\n",
       "            background-color:  #f96044;\n",
       "            color:  #000000;\n",
       "        }    #T_25beba71_cc54_11eb_8c4a_3822e2bf476drow2_col1 {\n",
       "            background-color:  #fb694a;\n",
       "            color:  #000000;\n",
       "        }    #T_25beba71_cc54_11eb_8c4a_3822e2bf476drow3_col1 {\n",
       "            background-color:  #fc9d7f;\n",
       "            color:  #000000;\n",
       "        }    #T_25beba71_cc54_11eb_8c4a_3822e2bf476drow4_col1 {\n",
       "            background-color:  #fcb79c;\n",
       "            color:  #000000;\n",
       "        }    #T_25beba71_cc54_11eb_8c4a_3822e2bf476drow5_col1 {\n",
       "            background-color:  #fcb79c;\n",
       "            color:  #000000;\n",
       "        }    #T_25beba71_cc54_11eb_8c4a_3822e2bf476drow6_col1 {\n",
       "            background-color:  #fcbfa7;\n",
       "            color:  #000000;\n",
       "        }    #T_25beba71_cc54_11eb_8c4a_3822e2bf476drow7_col1 {\n",
       "            background-color:  #fdd7c6;\n",
       "            color:  #000000;\n",
       "        }    #T_25beba71_cc54_11eb_8c4a_3822e2bf476drow8_col1 {\n",
       "            background-color:  #fdd7c6;\n",
       "            color:  #000000;\n",
       "        }    #T_25beba71_cc54_11eb_8c4a_3822e2bf476drow9_col1 {\n",
       "            background-color:  #fdd7c6;\n",
       "            color:  #000000;\n",
       "        }    #T_25beba71_cc54_11eb_8c4a_3822e2bf476drow10_col1 {\n",
       "            background-color:  #fee8dd;\n",
       "            color:  #000000;\n",
       "        }    #T_25beba71_cc54_11eb_8c4a_3822e2bf476drow11_col1 {\n",
       "            background-color:  #ffece4;\n",
       "            color:  #000000;\n",
       "        }    #T_25beba71_cc54_11eb_8c4a_3822e2bf476drow12_col1 {\n",
       "            background-color:  #ffece4;\n",
       "            color:  #000000;\n",
       "        }    #T_25beba71_cc54_11eb_8c4a_3822e2bf476drow13_col1 {\n",
       "            background-color:  #ffece4;\n",
       "            color:  #000000;\n",
       "        }    #T_25beba71_cc54_11eb_8c4a_3822e2bf476drow14_col1 {\n",
       "            background-color:  #fff1ea;\n",
       "            color:  #000000;\n",
       "        }    #T_25beba71_cc54_11eb_8c4a_3822e2bf476drow15_col1 {\n",
       "            background-color:  #fff1ea;\n",
       "            color:  #000000;\n",
       "        }    #T_25beba71_cc54_11eb_8c4a_3822e2bf476drow16_col1 {\n",
       "            background-color:  #fff5f0;\n",
       "            color:  #000000;\n",
       "        }    #T_25beba71_cc54_11eb_8c4a_3822e2bf476drow17_col1 {\n",
       "            background-color:  #fff5f0;\n",
       "            color:  #000000;\n",
       "        }    #T_25beba71_cc54_11eb_8c4a_3822e2bf476drow18_col1 {\n",
       "            background-color:  #fff5f0;\n",
       "            color:  #000000;\n",
       "        }    #T_25beba71_cc54_11eb_8c4a_3822e2bf476drow19_col1 {\n",
       "            background-color:  #fff5f0;\n",
       "            color:  #000000;\n",
       "        }</style><table id=\"T_25beba71_cc54_11eb_8c4a_3822e2bf476d\" ><thead>    <tr>        <th class=\"blank level0\" ></th>        <th class=\"col_heading level0 col0\" >phu_name</th>        <th class=\"col_heading level0 col1\" >number_ongoing_outbreaks</th>    </tr></thead><tbody>\n",
       "                <tr>\n",
       "                        <th id=\"T_25beba71_cc54_11eb_8c4a_3822e2bf476dlevel0_row0\" class=\"row_heading level0 row0\" >13</th>\n",
       "                        <td id=\"T_25beba71_cc54_11eb_8c4a_3822e2bf476drow0_col0\" class=\"data row0 col0\" >PEEL REGION</td>\n",
       "                        <td id=\"T_25beba71_cc54_11eb_8c4a_3822e2bf476drow0_col1\" class=\"data row0 col1\" >40</td>\n",
       "            </tr>\n",
       "            <tr>\n",
       "                        <th id=\"T_25beba71_cc54_11eb_8c4a_3822e2bf476dlevel0_row1\" class=\"row_heading level0 row1\" >22</th>\n",
       "                        <td id=\"T_25beba71_cc54_11eb_8c4a_3822e2bf476drow1_col0\" class=\"data row1 col0\" >YORK REGION</td>\n",
       "                        <td id=\"T_25beba71_cc54_11eb_8c4a_3822e2bf476drow1_col1\" class=\"data row1 col1\" >22</td>\n",
       "            </tr>\n",
       "            <tr>\n",
       "                        <th id=\"T_25beba71_cc54_11eb_8c4a_3822e2bf476dlevel0_row2\" class=\"row_heading level0 row2\" >18</th>\n",
       "                        <td id=\"T_25beba71_cc54_11eb_8c4a_3822e2bf476drow2_col0\" class=\"data row2 col0\" >TORONTO</td>\n",
       "                        <td id=\"T_25beba71_cc54_11eb_8c4a_3822e2bf476drow2_col1\" class=\"data row2 col1\" >21</td>\n",
       "            </tr>\n",
       "            <tr>\n",
       "                        <th id=\"T_25beba71_cc54_11eb_8c4a_3822e2bf476dlevel0_row3\" class=\"row_heading level0 row3\" >4</th>\n",
       "                        <td id=\"T_25beba71_cc54_11eb_8c4a_3822e2bf476drow3_col0\" class=\"data row3 col0\" >DURHAM REGION</td>\n",
       "                        <td id=\"T_25beba71_cc54_11eb_8c4a_3822e2bf476drow3_col1\" class=\"data row3 col1\" >15</td>\n",
       "            </tr>\n",
       "            <tr>\n",
       "                        <th id=\"T_25beba71_cc54_11eb_8c4a_3822e2bf476dlevel0_row4\" class=\"row_heading level0 row4\" >3</th>\n",
       "                        <td id=\"T_25beba71_cc54_11eb_8c4a_3822e2bf476drow4_col0\" class=\"data row4 col0\" >CITY OF OTTAWA</td>\n",
       "                        <td id=\"T_25beba71_cc54_11eb_8c4a_3822e2bf476drow4_col1\" class=\"data row4 col1\" >12</td>\n",
       "            </tr>\n",
       "            <tr>\n",
       "                        <th id=\"T_25beba71_cc54_11eb_8c4a_3822e2bf476dlevel0_row5\" class=\"row_heading level0 row5\" >12</th>\n",
       "                        <td id=\"T_25beba71_cc54_11eb_8c4a_3822e2bf476drow5_col0\" class=\"data row5 col0\" >NIAGARA REGION</td>\n",
       "                        <td id=\"T_25beba71_cc54_11eb_8c4a_3822e2bf476drow5_col1\" class=\"data row5 col1\" >12</td>\n",
       "            </tr>\n",
       "            <tr>\n",
       "                        <th id=\"T_25beba71_cc54_11eb_8c4a_3822e2bf476dlevel0_row6\" class=\"row_heading level0 row6\" >16</th>\n",
       "                        <td id=\"T_25beba71_cc54_11eb_8c4a_3822e2bf476drow6_col0\" class=\"data row6 col0\" >SIMCOE MUSKOKA DISTRICT</td>\n",
       "                        <td id=\"T_25beba71_cc54_11eb_8c4a_3822e2bf476drow6_col1\" class=\"data row6 col1\" >11</td>\n",
       "            </tr>\n",
       "            <tr>\n",
       "                        <th id=\"T_25beba71_cc54_11eb_8c4a_3822e2bf476dlevel0_row7\" class=\"row_heading level0 row7\" >15</th>\n",
       "                        <td id=\"T_25beba71_cc54_11eb_8c4a_3822e2bf476drow7_col0\" class=\"data row7 col0\" >PORCUPINE</td>\n",
       "                        <td id=\"T_25beba71_cc54_11eb_8c4a_3822e2bf476drow7_col1\" class=\"data row7 col1\" >8</td>\n",
       "            </tr>\n",
       "            <tr>\n",
       "                        <th id=\"T_25beba71_cc54_11eb_8c4a_3822e2bf476dlevel0_row8\" class=\"row_heading level0 row8\" >2</th>\n",
       "                        <td id=\"T_25beba71_cc54_11eb_8c4a_3822e2bf476drow8_col0\" class=\"data row8 col0\" >CITY OF HAMILTON</td>\n",
       "                        <td id=\"T_25beba71_cc54_11eb_8c4a_3822e2bf476drow8_col1\" class=\"data row8 col1\" >8</td>\n",
       "            </tr>\n",
       "            <tr>\n",
       "                        <th id=\"T_25beba71_cc54_11eb_8c4a_3822e2bf476dlevel0_row9\" class=\"row_heading level0 row9\" >8</th>\n",
       "                        <td id=\"T_25beba71_cc54_11eb_8c4a_3822e2bf476drow9_col0\" class=\"data row9 col0\" >HALTON REGION</td>\n",
       "                        <td id=\"T_25beba71_cc54_11eb_8c4a_3822e2bf476drow9_col1\" class=\"data row9 col1\" >8</td>\n",
       "            </tr>\n",
       "            <tr>\n",
       "                        <th id=\"T_25beba71_cc54_11eb_8c4a_3822e2bf476dlevel0_row10\" class=\"row_heading level0 row10\" >21</th>\n",
       "                        <td id=\"T_25beba71_cc54_11eb_8c4a_3822e2bf476drow10_col0\" class=\"data row10 col0\" >WINDSOR-ESSEX COUNTY</td>\n",
       "                        <td id=\"T_25beba71_cc54_11eb_8c4a_3822e2bf476drow10_col1\" class=\"data row10 col1\" >5</td>\n",
       "            </tr>\n",
       "            <tr>\n",
       "                        <th id=\"T_25beba71_cc54_11eb_8c4a_3822e2bf476dlevel0_row11\" class=\"row_heading level0 row11\" >20</th>\n",
       "                        <td id=\"T_25beba71_cc54_11eb_8c4a_3822e2bf476drow11_col0\" class=\"data row11 col0\" >WELLINGTON-DUFFERIN-GUELPH</td>\n",
       "                        <td id=\"T_25beba71_cc54_11eb_8c4a_3822e2bf476drow11_col1\" class=\"data row11 col1\" >4</td>\n",
       "            </tr>\n",
       "            <tr>\n",
       "                        <th id=\"T_25beba71_cc54_11eb_8c4a_3822e2bf476dlevel0_row12\" class=\"row_heading level0 row12\" >19</th>\n",
       "                        <td id=\"T_25beba71_cc54_11eb_8c4a_3822e2bf476drow12_col0\" class=\"data row12 col0\" >WATERLOO REGION</td>\n",
       "                        <td id=\"T_25beba71_cc54_11eb_8c4a_3822e2bf476drow12_col1\" class=\"data row12 col1\" >4</td>\n",
       "            </tr>\n",
       "            <tr>\n",
       "                        <th id=\"T_25beba71_cc54_11eb_8c4a_3822e2bf476dlevel0_row13\" class=\"row_heading level0 row13\" >1</th>\n",
       "                        <td id=\"T_25beba71_cc54_11eb_8c4a_3822e2bf476drow13_col0\" class=\"data row13 col0\" >BRANT COUNTY</td>\n",
       "                        <td id=\"T_25beba71_cc54_11eb_8c4a_3822e2bf476drow13_col1\" class=\"data row13 col1\" >4</td>\n",
       "            </tr>\n",
       "            <tr>\n",
       "                        <th id=\"T_25beba71_cc54_11eb_8c4a_3822e2bf476dlevel0_row14\" class=\"row_heading level0 row14\" >17</th>\n",
       "                        <td id=\"T_25beba71_cc54_11eb_8c4a_3822e2bf476drow14_col0\" class=\"data row14 col0\" >THUNDER BAY DISTRICT</td>\n",
       "                        <td id=\"T_25beba71_cc54_11eb_8c4a_3822e2bf476drow14_col1\" class=\"data row14 col1\" >3</td>\n",
       "            </tr>\n",
       "            <tr>\n",
       "                        <th id=\"T_25beba71_cc54_11eb_8c4a_3822e2bf476dlevel0_row15\" class=\"row_heading level0 row15\" >11</th>\n",
       "                        <td id=\"T_25beba71_cc54_11eb_8c4a_3822e2bf476drow15_col0\" class=\"data row15 col0\" >MIDDLESEX-LONDON</td>\n",
       "                        <td id=\"T_25beba71_cc54_11eb_8c4a_3822e2bf476drow15_col1\" class=\"data row15 col1\" >3</td>\n",
       "            </tr>\n",
       "            <tr>\n",
       "                        <th id=\"T_25beba71_cc54_11eb_8c4a_3822e2bf476dlevel0_row16\" class=\"row_heading level0 row16\" >14</th>\n",
       "                        <td id=\"T_25beba71_cc54_11eb_8c4a_3822e2bf476drow16_col0\" class=\"data row16 col0\" >PETERBOROUGH COUNTY-CITY</td>\n",
       "                        <td id=\"T_25beba71_cc54_11eb_8c4a_3822e2bf476drow16_col1\" class=\"data row16 col1\" >2</td>\n",
       "            </tr>\n",
       "            <tr>\n",
       "                        <th id=\"T_25beba71_cc54_11eb_8c4a_3822e2bf476dlevel0_row17\" class=\"row_heading level0 row17\" >7</th>\n",
       "                        <td id=\"T_25beba71_cc54_11eb_8c4a_3822e2bf476drow17_col0\" class=\"data row17 col0\" >HALIBURTON, KAWARTHA, PINE RIDGE</td>\n",
       "                        <td id=\"T_25beba71_cc54_11eb_8c4a_3822e2bf476drow17_col1\" class=\"data row17 col1\" >2</td>\n",
       "            </tr>\n",
       "            <tr>\n",
       "                        <th id=\"T_25beba71_cc54_11eb_8c4a_3822e2bf476dlevel0_row18\" class=\"row_heading level0 row18\" >6</th>\n",
       "                        <td id=\"T_25beba71_cc54_11eb_8c4a_3822e2bf476drow18_col0\" class=\"data row18 col0\" >HALDIMAND-NORFOLK</td>\n",
       "                        <td id=\"T_25beba71_cc54_11eb_8c4a_3822e2bf476drow18_col1\" class=\"data row18 col1\" >2</td>\n",
       "            </tr>\n",
       "            <tr>\n",
       "                        <th id=\"T_25beba71_cc54_11eb_8c4a_3822e2bf476dlevel0_row19\" class=\"row_heading level0 row19\" >0</th>\n",
       "                        <td id=\"T_25beba71_cc54_11eb_8c4a_3822e2bf476drow19_col0\" class=\"data row19 col0\" >ALGOMA DISTRICT</td>\n",
       "                        <td id=\"T_25beba71_cc54_11eb_8c4a_3822e2bf476drow19_col1\" class=\"data row19 col1\" >2</td>\n",
       "            </tr>\n",
       "    </tbody></table>"
      ],
      "text/plain": [
       "<pandas.io.formats.style.Styler at 0x1a3e9221580>"
      ]
     },
     "execution_count": 15,
     "metadata": {},
     "output_type": "execute_result"
    }
   ],
   "source": [
    "data = df_new.groupby(['phu_name']).number_ongoing_outbreaks.sum().reset_index().sort_values(by='number_ongoing_outbreaks',ascending=False)\n",
    "data.head(20).style.background_gradient(cmap='Reds')"
   ]
  },
  {
   "cell_type": "markdown",
   "metadata": {},
   "source": [
    "### The 'PEEL REGION' has reported the highest number of active cases in the Ontario province on June 12th, 2021."
   ]
  },
  {
   "cell_type": "markdown",
   "metadata": {},
   "source": [
    "## 7. Which group is more susceptible to the Covid-19 exposure in the Ontario Province as on June 12th, 2021?"
   ]
  },
  {
   "cell_type": "code",
   "execution_count": 16,
   "metadata": {},
   "outputs": [
    {
     "data": {
      "text/html": [
       "<div>\n",
       "<style scoped>\n",
       "    .dataframe tbody tr th:only-of-type {\n",
       "        vertical-align: middle;\n",
       "    }\n",
       "\n",
       "    .dataframe tbody tr th {\n",
       "        vertical-align: top;\n",
       "    }\n",
       "\n",
       "    .dataframe thead th {\n",
       "        text-align: right;\n",
       "    }\n",
       "</style>\n",
       "<table border=\"1\" class=\"dataframe\">\n",
       "  <thead>\n",
       "    <tr style=\"text-align: right;\">\n",
       "      <th></th>\n",
       "      <th>outbreak_group</th>\n",
       "      <th>number_ongoing_outbreaks</th>\n",
       "    </tr>\n",
       "  </thead>\n",
       "  <tbody>\n",
       "    <tr>\n",
       "      <th>3</th>\n",
       "      <td>4 Workplace</td>\n",
       "      <td>85</td>\n",
       "    </tr>\n",
       "    <tr>\n",
       "      <th>2</th>\n",
       "      <td>3 Education</td>\n",
       "      <td>30</td>\n",
       "    </tr>\n",
       "    <tr>\n",
       "      <th>1</th>\n",
       "      <td>2 Congregate Living</td>\n",
       "      <td>29</td>\n",
       "    </tr>\n",
       "    <tr>\n",
       "      <th>0</th>\n",
       "      <td>1 Congregate Care</td>\n",
       "      <td>23</td>\n",
       "    </tr>\n",
       "    <tr>\n",
       "      <th>4</th>\n",
       "      <td>5 Recreational</td>\n",
       "      <td>22</td>\n",
       "    </tr>\n",
       "    <tr>\n",
       "      <th>5</th>\n",
       "      <td>6 Other/Unknown</td>\n",
       "      <td>2</td>\n",
       "    </tr>\n",
       "  </tbody>\n",
       "</table>\n",
       "</div>"
      ],
      "text/plain": [
       "        outbreak_group  number_ongoing_outbreaks\n",
       "3          4 Workplace                        85\n",
       "2          3 Education                        30\n",
       "1  2 Congregate Living                        29\n",
       "0    1 Congregate Care                        23\n",
       "4       5 Recreational                        22\n",
       "5      6 Other/Unknown                         2"
      ]
     },
     "execution_count": 16,
     "metadata": {},
     "output_type": "execute_result"
    }
   ],
   "source": [
    "df_new.groupby(['outbreak_group']).number_ongoing_outbreaks.sum().reset_index().sort_values(by='number_ongoing_outbreaks',ascending=False)"
   ]
  },
  {
   "cell_type": "markdown",
   "metadata": {},
   "source": [
    "### The group 'Workplace' has seen the highest number of active cases. The group 'Education' and 'Congregate Living' has witnessed almost equal number of cases say, 30 and 29 respectively. "
   ]
  },
  {
   "cell_type": "markdown",
   "metadata": {},
   "source": [
    "## 8. What is the timeframe of the dataset?"
   ]
  },
  {
   "cell_type": "code",
   "execution_count": 17,
   "metadata": {},
   "outputs": [
    {
     "data": {
      "text/plain": [
       "'date    2020-11-01\\ndtype: object'"
      ]
     },
     "execution_count": 17,
     "metadata": {},
     "output_type": "execute_result"
    }
   ],
   "source": [
    "date_min = str(df[['date']].min())\n",
    "date_min"
   ]
  },
  {
   "cell_type": "code",
   "execution_count": 18,
   "metadata": {},
   "outputs": [
    {
     "data": {
      "text/plain": [
       "'date    2021-06-12\\ndtype: object'"
      ]
     },
     "execution_count": 18,
     "metadata": {},
     "output_type": "execute_result"
    }
   ],
   "source": [
    "date_max = str(df[['date']].max())\n",
    "date_max"
   ]
  },
  {
   "cell_type": "markdown",
   "metadata": {},
   "source": [
    "### The dataset consists of ongoing cases from Nov 1st, 2020 to June 12th, 2021."
   ]
  },
  {
   "cell_type": "code",
   "execution_count": 19,
   "metadata": {},
   "outputs": [
    {
     "name": "stdout",
     "output_type": "stream",
     "text": [
      "\n",
      "New DataFrame:\n"
     ]
    },
    {
     "data": {
      "text/html": [
       "<div>\n",
       "<style scoped>\n",
       "    .dataframe tbody tr th:only-of-type {\n",
       "        vertical-align: middle;\n",
       "    }\n",
       "\n",
       "    .dataframe tbody tr th {\n",
       "        vertical-align: top;\n",
       "    }\n",
       "\n",
       "    .dataframe thead th {\n",
       "        text-align: right;\n",
       "    }\n",
       "</style>\n",
       "<table border=\"1\" class=\"dataframe\">\n",
       "  <thead>\n",
       "    <tr style=\"text-align: right;\">\n",
       "      <th></th>\n",
       "      <th>phu_name</th>\n",
       "      <th>phu_num</th>\n",
       "      <th>outbreak_group</th>\n",
       "      <th>number_ongoing_outbreaks</th>\n",
       "      <th>year</th>\n",
       "      <th>month</th>\n",
       "      <th>day</th>\n",
       "    </tr>\n",
       "  </thead>\n",
       "  <tbody>\n",
       "    <tr>\n",
       "      <th>0</th>\n",
       "      <td>BRANT COUNTY</td>\n",
       "      <td>2227</td>\n",
       "      <td>4 Workplace</td>\n",
       "      <td>1</td>\n",
       "      <td>2020</td>\n",
       "      <td>11</td>\n",
       "      <td>01</td>\n",
       "    </tr>\n",
       "    <tr>\n",
       "      <th>1</th>\n",
       "      <td>BRANT COUNTY</td>\n",
       "      <td>2227</td>\n",
       "      <td>1 Congregate Care</td>\n",
       "      <td>2</td>\n",
       "      <td>2020</td>\n",
       "      <td>11</td>\n",
       "      <td>01</td>\n",
       "    </tr>\n",
       "    <tr>\n",
       "      <th>2</th>\n",
       "      <td>CHATHAM-KENT</td>\n",
       "      <td>2240</td>\n",
       "      <td>5 Recreational</td>\n",
       "      <td>1</td>\n",
       "      <td>2020</td>\n",
       "      <td>11</td>\n",
       "      <td>01</td>\n",
       "    </tr>\n",
       "    <tr>\n",
       "      <th>3</th>\n",
       "      <td>CHATHAM-KENT</td>\n",
       "      <td>2240</td>\n",
       "      <td>6 Other/Unknown</td>\n",
       "      <td>1</td>\n",
       "      <td>2020</td>\n",
       "      <td>11</td>\n",
       "      <td>01</td>\n",
       "    </tr>\n",
       "    <tr>\n",
       "      <th>4</th>\n",
       "      <td>CHATHAM-KENT</td>\n",
       "      <td>2240</td>\n",
       "      <td>4 Workplace</td>\n",
       "      <td>1</td>\n",
       "      <td>2020</td>\n",
       "      <td>11</td>\n",
       "      <td>01</td>\n",
       "    </tr>\n",
       "  </tbody>\n",
       "</table>\n",
       "</div>"
      ],
      "text/plain": [
       "       phu_name  phu_num     outbreak_group  number_ongoing_outbreaks  year  \\\n",
       "0  BRANT COUNTY     2227        4 Workplace                         1  2020   \n",
       "1  BRANT COUNTY     2227  1 Congregate Care                         2  2020   \n",
       "2  CHATHAM-KENT     2240     5 Recreational                         1  2020   \n",
       "3  CHATHAM-KENT     2240    6 Other/Unknown                         1  2020   \n",
       "4  CHATHAM-KENT     2240        4 Workplace                         1  2020   \n",
       "\n",
       "  month day  \n",
       "0    11  01  \n",
       "1    11  01  \n",
       "2    11  01  \n",
       "3    11  01  \n",
       "4    11  01  "
      ]
     },
     "execution_count": 19,
     "metadata": {},
     "output_type": "execute_result"
    }
   ],
   "source": [
    "df[[\"year\", \"month\", \"day\"]] = df[\"date\"].str.split(\"-\", expand = True)\n",
    "df = df.drop(columns = {'date'})\n",
    "print(\"\\nNew DataFrame:\")\n",
    "df.head(5)"
   ]
  },
  {
   "cell_type": "markdown",
   "metadata": {},
   "source": [
    "## 9. Which year has seen the highest number of active cases in the Ontario province?"
   ]
  },
  {
   "cell_type": "code",
   "execution_count": 20,
   "metadata": {},
   "outputs": [
    {
     "data": {
      "text/html": [
       "<div>\n",
       "<style scoped>\n",
       "    .dataframe tbody tr th:only-of-type {\n",
       "        vertical-align: middle;\n",
       "    }\n",
       "\n",
       "    .dataframe tbody tr th {\n",
       "        vertical-align: top;\n",
       "    }\n",
       "\n",
       "    .dataframe thead th {\n",
       "        text-align: right;\n",
       "    }\n",
       "</style>\n",
       "<table border=\"1\" class=\"dataframe\">\n",
       "  <thead>\n",
       "    <tr style=\"text-align: right;\">\n",
       "      <th></th>\n",
       "      <th>year</th>\n",
       "      <th>number_ongoing_outbreaks</th>\n",
       "    </tr>\n",
       "  </thead>\n",
       "  <tbody>\n",
       "    <tr>\n",
       "      <th>1</th>\n",
       "      <td>2021</td>\n",
       "      <td>116427</td>\n",
       "    </tr>\n",
       "    <tr>\n",
       "      <th>0</th>\n",
       "      <td>2020</td>\n",
       "      <td>45087</td>\n",
       "    </tr>\n",
       "  </tbody>\n",
       "</table>\n",
       "</div>"
      ],
      "text/plain": [
       "   year  number_ongoing_outbreaks\n",
       "1  2021                    116427\n",
       "0  2020                     45087"
      ]
     },
     "execution_count": 20,
     "metadata": {},
     "output_type": "execute_result"
    }
   ],
   "source": [
    "df.groupby('year')['number_ongoing_outbreaks'].sum().reset_index().sort_values(by='number_ongoing_outbreaks',ascending=False)"
   ]
  },
  {
   "cell_type": "markdown",
   "metadata": {},
   "source": [
    "### The year 2021 has seen the highest number of active cases in the Ontario province."
   ]
  },
  {
   "cell_type": "markdown",
   "metadata": {},
   "source": [
    "## 10. Which month has seen the highest spike in active cases in the year 2021?"
   ]
  },
  {
   "cell_type": "code",
   "execution_count": 21,
   "metadata": {},
   "outputs": [
    {
     "data": {
      "text/html": [
       "<style  type=\"text/css\" >\n",
       "    #T_26ed5de3_cc54_11eb_b03f_3822e2bf476drow0_col1 {\n",
       "            background-color:  #08306b;\n",
       "            color:  #f1f1f1;\n",
       "        }    #T_26ed5de3_cc54_11eb_b03f_3822e2bf476drow1_col1 {\n",
       "            background-color:  #8cc0dd;\n",
       "            color:  #000000;\n",
       "        }    #T_26ed5de3_cc54_11eb_b03f_3822e2bf476drow2_col1 {\n",
       "            background-color:  #e2edf8;\n",
       "            color:  #000000;\n",
       "        }    #T_26ed5de3_cc54_11eb_b03f_3822e2bf476drow3_col1 {\n",
       "            background-color:  #e8f1fa;\n",
       "            color:  #000000;\n",
       "        }    #T_26ed5de3_cc54_11eb_b03f_3822e2bf476drow4_col1 {\n",
       "            background-color:  #f7fbff;\n",
       "            color:  #000000;\n",
       "        }</style><table id=\"T_26ed5de3_cc54_11eb_b03f_3822e2bf476d\" ><thead>    <tr>        <th class=\"blank level0\" ></th>        <th class=\"col_heading level0 col0\" >month</th>        <th class=\"col_heading level0 col1\" >number_ongoing_outbreaks</th>    </tr></thead><tbody>\n",
       "                <tr>\n",
       "                        <th id=\"T_26ed5de3_cc54_11eb_b03f_3822e2bf476dlevel0_row0\" class=\"row_heading level0 row0\" >0</th>\n",
       "                        <td id=\"T_26ed5de3_cc54_11eb_b03f_3822e2bf476drow0_col0\" class=\"data row0 col0\" >01</td>\n",
       "                        <td id=\"T_26ed5de3_cc54_11eb_b03f_3822e2bf476drow0_col1\" class=\"data row0 col1\" >32170</td>\n",
       "            </tr>\n",
       "            <tr>\n",
       "                        <th id=\"T_26ed5de3_cc54_11eb_b03f_3822e2bf476dlevel0_row1\" class=\"row_heading level0 row1\" >3</th>\n",
       "                        <td id=\"T_26ed5de3_cc54_11eb_b03f_3822e2bf476drow1_col0\" class=\"data row1 col0\" >04</td>\n",
       "                        <td id=\"T_26ed5de3_cc54_11eb_b03f_3822e2bf476drow1_col1\" class=\"data row1 col1\" >23984</td>\n",
       "            </tr>\n",
       "            <tr>\n",
       "                        <th id=\"T_26ed5de3_cc54_11eb_b03f_3822e2bf476dlevel0_row2\" class=\"row_heading level0 row2\" >1</th>\n",
       "                        <td id=\"T_26ed5de3_cc54_11eb_b03f_3822e2bf476drow2_col0\" class=\"data row2 col0\" >02</td>\n",
       "                        <td id=\"T_26ed5de3_cc54_11eb_b03f_3822e2bf476drow2_col1\" class=\"data row2 col1\" >19611</td>\n",
       "            </tr>\n",
       "            <tr>\n",
       "                        <th id=\"T_26ed5de3_cc54_11eb_b03f_3822e2bf476dlevel0_row3\" class=\"row_heading level0 row3\" >4</th>\n",
       "                        <td id=\"T_26ed5de3_cc54_11eb_b03f_3822e2bf476drow3_col0\" class=\"data row3 col0\" >05</td>\n",
       "                        <td id=\"T_26ed5de3_cc54_11eb_b03f_3822e2bf476drow3_col1\" class=\"data row3 col1\" >19146</td>\n",
       "            </tr>\n",
       "            <tr>\n",
       "                        <th id=\"T_26ed5de3_cc54_11eb_b03f_3822e2bf476dlevel0_row4\" class=\"row_heading level0 row4\" >2</th>\n",
       "                        <td id=\"T_26ed5de3_cc54_11eb_b03f_3822e2bf476drow4_col0\" class=\"data row4 col0\" >03</td>\n",
       "                        <td id=\"T_26ed5de3_cc54_11eb_b03f_3822e2bf476drow4_col1\" class=\"data row4 col1\" >18072</td>\n",
       "            </tr>\n",
       "    </tbody></table>"
      ],
      "text/plain": [
       "<pandas.io.formats.style.Styler at 0x1a3e9af3160>"
      ]
     },
     "execution_count": 21,
     "metadata": {},
     "output_type": "execute_result"
    }
   ],
   "source": [
    "#Applying the filter to the dataset\n",
    "df_month = df[df['year'] == '2021']\n",
    "\n",
    "month_wise = df_month.groupby('month')['number_ongoing_outbreaks'].sum().reset_index().sort_values(by='number_ongoing_outbreaks',ascending=False)\n",
    "month_wise.head(5).style.background_gradient(cmap='Blues')"
   ]
  },
  {
   "cell_type": "markdown",
   "metadata": {},
   "source": [
    "### The month of 'January' has seen the highest spike in the number of active cases of 32170 followed by 'April' with a number of 23984 active cases in the year of 2021."
   ]
  }
 ],
 "metadata": {
  "kernelspec": {
   "display_name": "Python 3",
   "language": "python",
   "name": "python3"
  },
  "language_info": {
   "codemirror_mode": {
    "name": "ipython",
    "version": 3
   },
   "file_extension": ".py",
   "mimetype": "text/x-python",
   "name": "python",
   "nbconvert_exporter": "python",
   "pygments_lexer": "ipython3",
   "version": "3.8.3"
  }
 },
 "nbformat": 4,
 "nbformat_minor": 4
}
